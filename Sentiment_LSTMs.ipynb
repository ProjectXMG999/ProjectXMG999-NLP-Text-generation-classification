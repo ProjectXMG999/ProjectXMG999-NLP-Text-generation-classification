{
  "cells": [
    {
      "cell_type": "markdown",
      "metadata": {
        "id": "view-in-github",
        "colab_type": "text"
      },
      "source": [
        "<a href=\"https://colab.research.google.com/github/ProjectXMG999/ProjectXMG999-NLP-Text-generation-classification/blob/main/Sentiment_LSTMs.ipynb\" target=\"_parent\"><img src=\"https://colab.research.google.com/assets/colab-badge.svg\" alt=\"Open In Colab\"/></a>"
      ]
    },
    {
      "cell_type": "markdown",
      "metadata": {
        "id": "Dbf1f0J2KpEs"
      },
      "source": [
        "# Training with Bidirectional LSTM \n",
        "- working again with reviews from amazon and yelp\n",
        "- predictinh sentiment of new reviews\n",
        "- experimenting with embedding vs Bidirectional LSTMs vs multiple bidirectional layers\n",
        "\n",
        "- copmaring:\n",
        "    - Embeddings and a Global Average Pooling layer\n",
        "    - Embeddings and a Bidirectional LSTM layer\n",
        "    - Embeddings and two Bidirectional LSTM layers"
      ]
    },
    {
      "cell_type": "code",
      "execution_count": 1,
      "metadata": {
        "id": "qsaFcAQAKpEz"
      },
      "outputs": [],
      "source": [
        "import tensorflow as tf\n",
        "from keras.utils import pad_sequences\n",
        "import pandas as pd\n",
        "import tensorflow_datasets as tfds\n",
        "import numpy as np\n",
        "import matplotlib.pyplot as plt"
      ]
    },
    {
      "cell_type": "code",
      "execution_count": 2,
      "metadata": {
        "colab": {
          "base_uri": "https://localhost:8080/"
        },
        "id": "6h7uQxr-KpE1",
        "outputId": "a87ee3aa-33c8-4711-997e-77122743c806"
      },
      "outputs": [
        {
          "output_type": "stream",
          "name": "stdout",
          "text": [
            "--2023-03-09 20:58:45--  https://drive.google.com/uc?id=13ySLC_ue6Umt9RJYSeM2t-V0kCv-4C-P\n",
            "Resolving drive.google.com (drive.google.com)... 64.233.191.138, 64.233.191.100, 64.233.191.101, ...\n",
            "Connecting to drive.google.com (drive.google.com)|64.233.191.138|:443... connected.\n",
            "HTTP request sent, awaiting response... 303 See Other\n",
            "Location: https://doc-08-ak-docs.googleusercontent.com/docs/securesc/ha0ro937gcuc7l7deffksulhg5h7mbp1/6nr2js8hd783iv75io3fe8ihsb0fskb5/1678395525000/11118900490791463723/*/13ySLC_ue6Umt9RJYSeM2t-V0kCv-4C-P?uuid=aef37791-49e3-476d-89b2-51d7f0ecc774 [following]\n",
            "Warning: wildcards not supported in HTTP.\n",
            "--2023-03-09 20:58:46--  https://doc-08-ak-docs.googleusercontent.com/docs/securesc/ha0ro937gcuc7l7deffksulhg5h7mbp1/6nr2js8hd783iv75io3fe8ihsb0fskb5/1678395525000/11118900490791463723/*/13ySLC_ue6Umt9RJYSeM2t-V0kCv-4C-P?uuid=aef37791-49e3-476d-89b2-51d7f0ecc774\n",
            "Resolving doc-08-ak-docs.googleusercontent.com (doc-08-ak-docs.googleusercontent.com)... 173.194.192.132, 2607:f8b0:4001:c0e::84\n",
            "Connecting to doc-08-ak-docs.googleusercontent.com (doc-08-ak-docs.googleusercontent.com)|173.194.192.132|:443... connected.\n",
            "HTTP request sent, awaiting response... 200 OK\n",
            "Length: 127831 (125K) [text/csv]\n",
            "Saving to: ‘/tmp/sentiment.csv’\n",
            "\n",
            "/tmp/sentiment.csv  100%[===================>] 124.83K  --.-KB/s    in 0.001s  \n",
            "\n",
            "2023-03-09 20:58:46 (87.0 MB/s) - ‘/tmp/sentiment.csv’ saved [127831/127831]\n",
            "\n"
          ]
        }
      ],
      "source": [
        "!wget --no-check-certificate \\\n",
        "    https://drive.google.com/uc?id=13ySLC_ue6Umt9RJYSeM2t-V0kCv-4C-P -O /tmp/sentiment.csv"
      ]
    },
    {
      "cell_type": "code",
      "execution_count": 3,
      "metadata": {
        "colab": {
          "base_uri": "https://localhost:8080/"
        },
        "id": "WqqIMI05KpE2",
        "outputId": "ead41904-705b-45b8-ff16-0e26a8839b7b"
      },
      "outputs": [
        {
          "output_type": "stream",
          "name": "stdout",
          "text": [
            "So there is no way for me to plug it in here in the US unless I go by a converter.\n",
            "0\n",
            "\n",
            "\n",
            "Good case Excellent value.\n",
            "1\n",
            "\n",
            "\n"
          ]
        }
      ],
      "source": [
        "dataset = pd.read_csv('/tmp/sentiment.csv')\n",
        "\n",
        "# Extract out sentences and labels\n",
        "sentences = dataset['text'].tolist()\n",
        "labels = dataset['sentiment'].tolist()\n",
        "\n",
        "# Print some example sentences and labels\n",
        "for x in range(2):\n",
        "  print(sentences[x])\n",
        "  print(labels[x])\n",
        "  print(\"\\n\")"
      ]
    },
    {
      "cell_type": "code",
      "execution_count": 4,
      "metadata": {
        "colab": {
          "base_uri": "https://localhost:8080/"
        },
        "id": "kn4aOVrQKpE3",
        "outputId": "2fadedc5-0e10-4200-a478-b3a2f3dc254d"
      },
      "outputs": [
        {
          "output_type": "stream",
          "name": "stdout",
          "text": [
            "Vocab size is  999\n"
          ]
        }
      ],
      "source": [
        "# create a subwords dataset\n",
        "vocab_size = 1000\n",
        "tokenizer = tfds.deprecated.text.SubwordTextEncoder.build_from_corpus(sentences, vocab_size, max_subword_length=5)\n",
        "\n",
        "# How big is the vocab size?\n",
        "print(\"Vocab size is \", tokenizer.vocab_size)"
      ]
    },
    {
      "cell_type": "code",
      "execution_count": 5,
      "metadata": {
        "colab": {
          "base_uri": "https://localhost:8080/"
        },
        "id": "V7L9Oau5KpE3",
        "outputId": "4def61f3-4458-4d24-bd0e-b2073bcf0383"
      },
      "outputs": [
        {
          "output_type": "stream",
          "name": "stdout",
          "text": [
            "I have to jiggle the plug to get it to line up right to get decent volume.\n",
            "[4, 31, 6, 849, 162, 450, 12, 1, 600, 438, 775, 6, 175, 14, 6, 55, 213, 159, 474, 775, 6, 175, 614, 380, 295, 148, 72, 789]\n"
          ]
        }
      ],
      "source": [
        "# Check that the tokenizer works appropriately\n",
        "num = 5\n",
        "print(sentences[num])\n",
        "encoded = tokenizer.encode(sentences[num])\n",
        "print(encoded)"
      ]
    },
    {
      "cell_type": "code",
      "execution_count": 6,
      "metadata": {
        "colab": {
          "base_uri": "https://localhost:8080/"
        },
        "id": "Qoz9kHikKpE4",
        "outputId": "2429f6f9-afff-40d2-fa0c-3bc6e4ac79f2"
      },
      "outputs": [
        {
          "output_type": "stream",
          "name": "stdout",
          "text": [
            "I \n",
            "have \n",
            "to \n",
            "j\n",
            "ig\n",
            "gl\n",
            "e \n",
            "the \n",
            "pl\n",
            "ug\n",
            " \n",
            "to \n",
            "get \n",
            "it \n",
            "to \n",
            "li\n",
            "ne \n",
            "up \n",
            "right\n",
            " \n",
            "to \n",
            "get \n",
            "dec\n",
            "ent \n",
            "vo\n",
            "lu\n",
            "me\n",
            ".\n"
          ]
        }
      ],
      "source": [
        "# Separately print out each subword, decoded\n",
        "for i in encoded:\n",
        "  print(tokenizer.decode([i]))"
      ]
    },
    {
      "cell_type": "code",
      "execution_count": 7,
      "metadata": {
        "colab": {
          "base_uri": "https://localhost:8080/"
        },
        "id": "PYRhtIOKKpE5",
        "outputId": "808f635b-2656-4f04-8dd4-677c016bd808"
      },
      "outputs": [
        {
          "output_type": "stream",
          "name": "stdout",
          "text": [
            "[4, 31, 6, 849, 162, 450, 12, 1, 600, 438, 775, 6, 175, 14, 6, 55, 213, 159, 474, 775, 6, 175, 614, 380, 295, 148, 72, 789]\n"
          ]
        }
      ],
      "source": [
        "# Replace sentence data with encoded subwords\n",
        "\n",
        "for i, sentence in enumerate(sentences):\n",
        "  sentences[i] = tokenizer.encode(sentence)\n",
        "\n",
        "# Check the sentences are appropriately replaced\n",
        "print(sentences[5])"
      ]
    },
    {
      "cell_type": "code",
      "execution_count": null,
      "metadata": {
        "id": "_jXfUXL1KpE5"
      },
      "outputs": [],
      "source": [
        "# Final pre-processing"
      ]
    },
    {
      "cell_type": "code",
      "execution_count": 8,
      "metadata": {
        "id": "JGKrdDc1KpE6"
      },
      "outputs": [],
      "source": [
        "\n",
        "max_length = 50\n",
        "trunc_type='post'\n",
        "padding_type='post'\n",
        "\n",
        "# Pad all sequences\n",
        "sequences_padded = pad_sequences(sentences, maxlen=max_length, \n",
        "                                 padding=padding_type, truncating=trunc_type)\n",
        "\n",
        "# Separate out the sentences and labels into training and test sets\n",
        "training_size = int(len(sentences) * 0.8)\n",
        "\n",
        "training_sequences = sequences_padded[0:training_size]\n",
        "testing_sequences = sequences_padded[training_size:]\n",
        "training_labels = labels[0:training_size]\n",
        "testing_labels = labels[training_size:]\n",
        "\n",
        "# Make labels into numpy arrays for use with the network later\n",
        "training_labels_final = np.array(training_labels)\n",
        "testing_labels_final = np.array(testing_labels)"
      ]
    },
    {
      "cell_type": "markdown",
      "metadata": {
        "id": "1Wb_sZCqKpE7"
      },
      "source": [
        "## Create the model using an Embedding"
      ]
    },
    {
      "cell_type": "code",
      "execution_count": 9,
      "metadata": {
        "colab": {
          "base_uri": "https://localhost:8080/"
        },
        "id": "mkwrpEpHKpE9",
        "outputId": "c3716d14-6097-453a-975a-0f47639c1440"
      },
      "outputs": [
        {
          "output_type": "stream",
          "name": "stdout",
          "text": [
            "Model: \"sequential\"\n",
            "_________________________________________________________________\n",
            " Layer (type)                Output Shape              Param #   \n",
            "=================================================================\n",
            " embedding (Embedding)       (None, 50, 16)            16000     \n",
            "                                                                 \n",
            " global_average_pooling1d (G  (None, 16)               0         \n",
            " lobalAveragePooling1D)                                          \n",
            "                                                                 \n",
            " dense (Dense)               (None, 6)                 102       \n",
            "                                                                 \n",
            " dense_1 (Dense)             (None, 1)                 7         \n",
            "                                                                 \n",
            "=================================================================\n",
            "Total params: 16,109\n",
            "Trainable params: 16,109\n",
            "Non-trainable params: 0\n",
            "_________________________________________________________________\n"
          ]
        }
      ],
      "source": [
        "embedding_dim = 16\n",
        "\n",
        "model = tf.keras.Sequential([\n",
        "    tf.keras.layers.Embedding(vocab_size, embedding_dim, input_length=max_length),\n",
        "    tf.keras.layers.GlobalAveragePooling1D(), \n",
        "    tf.keras.layers.Dense(6, activation='relu'),\n",
        "    tf.keras.layers.Dense(1, activation='sigmoid')\n",
        "])\n",
        "\n",
        "model.summary()"
      ]
    },
    {
      "cell_type": "code",
      "execution_count": 10,
      "metadata": {
        "colab": {
          "base_uri": "https://localhost:8080/"
        },
        "id": "k2Dpd8XaKpE-",
        "outputId": "a3db9d31-8283-41a9-f739-d4e95d3e7627"
      },
      "outputs": [
        {
          "output_type": "stream",
          "name": "stdout",
          "text": [
            "Epoch 1/30\n",
            "50/50 [==============================] - 2s 13ms/step - loss: 0.6923 - accuracy: 0.5166 - val_loss: 0.6953 - val_accuracy: 0.4135\n",
            "Epoch 2/30\n",
            "50/50 [==============================] - 0s 7ms/step - loss: 0.6890 - accuracy: 0.5267 - val_loss: 0.6985 - val_accuracy: 0.4160\n",
            "Epoch 3/30\n",
            "50/50 [==============================] - 0s 6ms/step - loss: 0.6830 - accuracy: 0.5436 - val_loss: 0.6963 - val_accuracy: 0.4411\n",
            "Epoch 4/30\n",
            "50/50 [==============================] - 0s 6ms/step - loss: 0.6723 - accuracy: 0.5863 - val_loss: 0.6853 - val_accuracy: 0.5163\n",
            "Epoch 5/30\n",
            "50/50 [==============================] - 0s 6ms/step - loss: 0.6555 - accuracy: 0.6522 - val_loss: 0.6696 - val_accuracy: 0.5689\n",
            "Epoch 6/30\n",
            "50/50 [==============================] - 0s 5ms/step - loss: 0.6291 - accuracy: 0.7250 - val_loss: 0.6513 - val_accuracy: 0.6341\n",
            "Epoch 7/30\n",
            "50/50 [==============================] - 0s 5ms/step - loss: 0.5957 - accuracy: 0.7684 - val_loss: 0.6148 - val_accuracy: 0.7694\n",
            "Epoch 8/30\n",
            "50/50 [==============================] - 0s 6ms/step - loss: 0.5580 - accuracy: 0.8092 - val_loss: 0.5983 - val_accuracy: 0.7043\n",
            "Epoch 9/30\n",
            "50/50 [==============================] - 0s 8ms/step - loss: 0.5176 - accuracy: 0.8336 - val_loss: 0.5790 - val_accuracy: 0.7043\n",
            "Epoch 10/30\n",
            "50/50 [==============================] - 0s 8ms/step - loss: 0.4790 - accuracy: 0.8343 - val_loss: 0.5534 - val_accuracy: 0.7444\n",
            "Epoch 11/30\n",
            "50/50 [==============================] - 1s 11ms/step - loss: 0.4420 - accuracy: 0.8500 - val_loss: 0.5284 - val_accuracy: 0.7694\n",
            "Epoch 12/30\n",
            "50/50 [==============================] - 0s 9ms/step - loss: 0.4110 - accuracy: 0.8657 - val_loss: 0.5358 - val_accuracy: 0.7444\n",
            "Epoch 13/30\n",
            "50/50 [==============================] - 0s 8ms/step - loss: 0.3828 - accuracy: 0.8682 - val_loss: 0.5109 - val_accuracy: 0.7419\n",
            "Epoch 14/30\n",
            "50/50 [==============================] - 0s 9ms/step - loss: 0.3572 - accuracy: 0.8726 - val_loss: 0.5226 - val_accuracy: 0.7393\n",
            "Epoch 15/30\n",
            "50/50 [==============================] - 1s 10ms/step - loss: 0.3364 - accuracy: 0.8820 - val_loss: 0.5094 - val_accuracy: 0.7544\n",
            "Epoch 16/30\n",
            "50/50 [==============================] - 0s 8ms/step - loss: 0.3182 - accuracy: 0.8870 - val_loss: 0.5140 - val_accuracy: 0.7519\n",
            "Epoch 17/30\n",
            "50/50 [==============================] - 0s 10ms/step - loss: 0.2992 - accuracy: 0.8964 - val_loss: 0.4982 - val_accuracy: 0.7544\n",
            "Epoch 18/30\n",
            "50/50 [==============================] - 0s 9ms/step - loss: 0.2843 - accuracy: 0.9008 - val_loss: 0.5046 - val_accuracy: 0.7469\n",
            "Epoch 19/30\n",
            "50/50 [==============================] - 1s 15ms/step - loss: 0.2717 - accuracy: 0.9058 - val_loss: 0.5061 - val_accuracy: 0.7544\n",
            "Epoch 20/30\n",
            "50/50 [==============================] - 1s 10ms/step - loss: 0.2576 - accuracy: 0.9083 - val_loss: 0.5235 - val_accuracy: 0.7469\n",
            "Epoch 21/30\n",
            "50/50 [==============================] - 0s 7ms/step - loss: 0.2470 - accuracy: 0.9159 - val_loss: 0.5102 - val_accuracy: 0.7494\n",
            "Epoch 22/30\n",
            "50/50 [==============================] - 0s 6ms/step - loss: 0.2372 - accuracy: 0.9190 - val_loss: 0.5167 - val_accuracy: 0.7444\n",
            "Epoch 23/30\n",
            "50/50 [==============================] - 0s 7ms/step - loss: 0.2256 - accuracy: 0.9247 - val_loss: 0.5277 - val_accuracy: 0.7419\n",
            "Epoch 24/30\n",
            "50/50 [==============================] - 0s 7ms/step - loss: 0.2174 - accuracy: 0.9284 - val_loss: 0.5424 - val_accuracy: 0.7469\n",
            "Epoch 25/30\n",
            "50/50 [==============================] - 0s 6ms/step - loss: 0.2095 - accuracy: 0.9322 - val_loss: 0.5443 - val_accuracy: 0.7393\n",
            "Epoch 26/30\n",
            "50/50 [==============================] - 0s 6ms/step - loss: 0.2009 - accuracy: 0.9353 - val_loss: 0.5661 - val_accuracy: 0.7368\n",
            "Epoch 27/30\n",
            "50/50 [==============================] - 0s 7ms/step - loss: 0.1938 - accuracy: 0.9347 - val_loss: 0.5648 - val_accuracy: 0.7419\n",
            "Epoch 28/30\n",
            "50/50 [==============================] - 0s 7ms/step - loss: 0.1885 - accuracy: 0.9379 - val_loss: 0.5877 - val_accuracy: 0.7419\n",
            "Epoch 29/30\n",
            "50/50 [==============================] - 0s 6ms/step - loss: 0.1813 - accuracy: 0.9460 - val_loss: 0.5952 - val_accuracy: 0.7419\n",
            "Epoch 30/30\n",
            "50/50 [==============================] - 0s 5ms/step - loss: 0.1738 - accuracy: 0.9479 - val_loss: 0.5743 - val_accuracy: 0.7644\n"
          ]
        }
      ],
      "source": [
        "# train the model\n",
        "\n",
        "num_epochs = 30\n",
        "model.compile(loss='binary_crossentropy',optimizer='adam',metrics=['accuracy'])\n",
        "history = model.fit(training_sequences, training_labels_final, epochs=num_epochs, validation_data=(testing_sequences, testing_labels_final))"
      ]
    },
    {
      "cell_type": "code",
      "execution_count": 11,
      "metadata": {
        "colab": {
          "base_uri": "https://localhost:8080/",
          "height": 541
        },
        "id": "JOpgDPhSKpE_",
        "outputId": "4d4f0385-08dd-4ce7-a123-9320da73d1b5"
      },
      "outputs": [
        {
          "output_type": "display_data",
          "data": {
            "text/plain": [
              "<Figure size 432x288 with 1 Axes>"
            ],
            "image/png": "[encoded data removed]"
          },
          "metadata": {
            "needs_background": "light"
          }
        },
        {
          "output_type": "display_data",
          "data": {
            "text/plain": [
              "<Figure size 432x288 with 1 Axes>"
            ],
            "image/png": "[encoded data removed]"
          },
          "metadata": {
            "needs_background": "light"
          }
        }
      ],
      "source": [
        "# plot the accuracy and lost\n",
        "\n",
        "def plot_graphs(history, string):\n",
        "  plt.plot(history.history[string])\n",
        "  plt.plot(history.history['val_'+string])\n",
        "  plt.xlabel(\"Epochs\")\n",
        "  plt.ylabel(string)\n",
        "  plt.legend([string, 'val_'+string])\n",
        "  plt.show()\n",
        "  \n",
        "plot_graphs(history, \"accuracy\")\n",
        "plot_graphs(history, \"loss\")"
      ]
    },
    {
      "cell_type": "code",
      "execution_count": 12,
      "metadata": {
        "id": "qTeDxX-TKpE_"
      },
      "outputs": [],
      "source": [
        "# define a function to predict the sentiment of reviews\n",
        "# the higher the sentiment value is to 1, the more positive the review is\n",
        "\n",
        "# max_length = 100 # previously defined\n",
        "\n",
        "def predict_review(model, new_sentences, maxlen=max_length, show_padded_sequence=True ):\n",
        "  # Keep the original sentences so that we can keep using them later\n",
        "  # Create an array to hold the encoded sequences\n",
        "  new_sequences = []\n",
        "\n",
        "  # Convert the new reviews to sequences\n",
        "  for i, frvw in enumerate(new_sentences):\n",
        "    new_sequences.append(tokenizer.encode(frvw))\n",
        "\n",
        "  trunc_type='post' \n",
        "  padding_type='post'\n",
        "\n",
        "  # Pad all sequences for the new reviews\n",
        "  new_reviews_padded = pad_sequences(new_sequences, maxlen=max_length, \n",
        "                                 padding=padding_type, truncating=trunc_type)             \n",
        "\n",
        "  classes = model.predict(new_reviews_padded)\n",
        "\n",
        "  # The closer the class is to 1, the more positive the review is\n",
        "  for x in range(len(new_sentences)):\n",
        "    \n",
        "    # We can see the padded sequence if desired\n",
        "    # Print the sequence\n",
        "    if (show_padded_sequence):\n",
        "      print(new_reviews_padded[x])\n",
        "    # Print the review as text\n",
        "    print(new_sentences[x])\n",
        "    # Print its predicted class\n",
        "    print(classes[x])\n",
        "    print(\"\\n\")"
      ]
    },
    {
      "cell_type": "code",
      "execution_count": 13,
      "metadata": {
        "colab": {
          "base_uri": "https://localhost:8080/"
        },
        "id": "UW0iK4vbKpFA",
        "outputId": "ebb39808-6ee8-45ed-d46e-85c144869121"
      },
      "outputs": [
        {
          "output_type": "stream",
          "name": "stdout",
          "text": [
            "1/1 [==============================] - 0s 187ms/step\n",
            "[  4 281  16  25   0   0   0   0   0   0   0   0   0   0   0   0   0   0\n",
            "   0   0   0   0   0   0   0   0   0   0   0   0   0   0   0   0   0   0\n",
            "   0   0   0   0   0   0   0   0   0   0   0   0   0   0]\n",
            "I love this phone\n",
            "[0.84017736]\n",
            "\n",
            "\n",
            "[812 227 864 100 775   9 525 843   0   0   0   0   0   0   0   0   0   0\n",
            "   0   0   0   0   0   0   0   0   0   0   0   0   0   0   0   0   0   0\n",
            "   0   0   0   0   0   0   0   0   0   0   0   0   0   0]\n",
            "Everything was cold\n",
            "[0.06752893]\n",
            "\n",
            "\n",
            "[812 227 864 100 775   9 109   8 333 731  24  61   4 171  59  77   0   0\n",
            "   0   0   0   0   0   0   0   0   0   0   0   0   0   0   0   0   0   0\n",
            "   0   0   0   0   0   0   0   0   0   0   0   0   0   0]\n",
            "Everything was hot exactly as I wanted\n",
            "[0.22825603]\n",
            "\n",
            "\n",
            "[812 227 864 100 775   9 157 359 853   0   0   0   0   0   0   0   0   0\n",
            "   0   0   0   0   0   0   0   0   0   0   0   0   0   0   0   0   0   0\n",
            "   0   0   0   0   0   0   0   0   0   0   0   0   0   0]\n",
            "Everything was green\n",
            "[0.05813567]\n",
            "\n",
            "\n",
            "[  1 109 228 540 237 635 241 423 340  89 298   0   0   0   0   0   0   0\n",
            "   0   0   0   0   0   0   0   0   0   0   0   0   0   0   0   0   0   0\n",
            "   0   0   0   0   0   0   0   0   0   0   0   0   0   0]\n",
            "the host seated us immediately\n",
            "[0.3208057]\n",
            "\n",
            "\n",
            "[154 242  47 635 341  12 569 547 147 319 775 125  85   0   0   0   0   0\n",
            "   0   0   0   0   0   0   0   0   0   0   0   0   0   0   0   0   0   0\n",
            "   0   0   0   0   0   0   0   0   0   0   0   0   0   0]\n",
            "they gave us free chocolate cake\n",
            "[0.5920946]\n",
            "\n",
            "\n",
            "[158 190 853 782   8 607 775 210 232 146 775 470  67 305 101  15   1 328\n",
            " 296  26  19   1 661 641 195   0   0   0   0   0   0   0   0   0   0   0\n",
            "   0   0   0   0   0   0   0   0   0   0   0   0   0   0]\n",
            "we couldn't hear each other talk because of the shouting in the kitchen\n",
            "[0.00931527]\n",
            "\n",
            "\n"
          ]
        }
      ],
      "source": [
        "# Use the model to predict some reviews   \n",
        "fake_reviews = [\"I love this phone\", \n",
        "                \"Everything was cold\",\n",
        "                \"Everything was hot exactly as I wanted\", \n",
        "                \"Everything was green\", \n",
        "                \"the host seated us immediately\",\n",
        "                \"they gave us free chocolate cake\", \n",
        "                \"we couldn't hear each other talk because of the shouting in the kitchen\"\n",
        "              ]\n",
        "\n",
        "predict_review(model, fake_reviews)\n"
      ]
    },
    {
      "cell_type": "code",
      "execution_count": 14,
      "metadata": {
        "id": "lA6UjK1rKpFB"
      },
      "outputs": [],
      "source": [
        "# i want to compare models with different layers\n",
        "# so i define function to rain and show the results each of them\n",
        "\n",
        "def fit_model_now (model, sentences) :\n",
        "  model.compile(loss='binary_crossentropy',optimizer='adam',metrics=['accuracy'])\n",
        "  model.summary()\n",
        "  history = model.fit(training_sequences, training_labels_final, epochs=num_epochs, \n",
        "                      validation_data=(testing_sequences, testing_labels_final))\n",
        "  return history\n",
        "\n",
        "def plot_results (history):\n",
        "  plot_graphs(history, \"accuracy\")\n",
        "  plot_graphs(history, \"loss\")\n",
        "\n",
        "def fit_model_and_show_results (model, sentences):\n",
        "  history = fit_model_now(model, sentences)\n",
        "  plot_results(history)\n",
        "  predict_review(model, sentences)"
      ]
    },
    {
      "cell_type": "markdown",
      "metadata": {
        "id": "2GKv8SxgKpFB"
      },
      "source": [
        "## add a bidirectional LSTM"
      ]
    },
    {
      "cell_type": "code",
      "execution_count": 15,
      "metadata": {
        "colab": {
          "base_uri": "https://localhost:8080/",
          "height": 1000
        },
        "id": "uXH--z98KpFB",
        "outputId": "93ab0dc7-4c1c-4c47-ed67-909b28df4324"
      },
      "outputs": [
        {
          "output_type": "stream",
          "name": "stdout",
          "text": [
            "Model: \"sequential_1\"\n",
            "_________________________________________________________________\n",
            " Layer (type)                Output Shape              Param #   \n",
            "=================================================================\n",
            " embedding_1 (Embedding)     (None, 50, 16)            16000     \n",
            "                                                                 \n",
            " bidirectional (Bidirectiona  (None, 32)               4224      \n",
            " l)                                                              \n",
            "                                                                 \n",
            " dense_2 (Dense)             (None, 6)                 198       \n",
            "                                                                 \n",
            " dense_3 (Dense)             (None, 1)                 7         \n",
            "                                                                 \n",
            "=================================================================\n",
            "Total params: 20,429\n",
            "Trainable params: 20,429\n",
            "Non-trainable params: 0\n",
            "_________________________________________________________________\n",
            "Epoch 1/30\n",
            "50/50 [==============================] - 9s 94ms/step - loss: 0.6909 - accuracy: 0.5085 - val_loss: 0.6924 - val_accuracy: 0.4436\n",
            "Epoch 2/30\n",
            "50/50 [==============================] - 7s 146ms/step - loss: 0.6513 - accuracy: 0.6974 - val_loss: 0.6047 - val_accuracy: 0.7519\n",
            "Epoch 3/30\n",
            "50/50 [==============================] - 3s 55ms/step - loss: 0.4885 - accuracy: 0.8023 - val_loss: 0.5058 - val_accuracy: 0.7820\n",
            "Epoch 4/30\n",
            "50/50 [==============================] - 2s 37ms/step - loss: 0.3442 - accuracy: 0.8663 - val_loss: 0.6550 - val_accuracy: 0.7143\n",
            "Epoch 5/30\n",
            "50/50 [==============================] - 2s 38ms/step - loss: 0.2726 - accuracy: 0.9002 - val_loss: 0.5003 - val_accuracy: 0.7744\n",
            "Epoch 6/30\n",
            "50/50 [==============================] - 2s 39ms/step - loss: 0.2225 - accuracy: 0.9203 - val_loss: 0.6409 - val_accuracy: 0.7494\n",
            "Epoch 7/30\n",
            "50/50 [==============================] - 4s 71ms/step - loss: 0.2009 - accuracy: 0.9322 - val_loss: 0.5780 - val_accuracy: 0.7669\n",
            "Epoch 8/30\n",
            "50/50 [==============================] - 2s 49ms/step - loss: 0.1647 - accuracy: 0.9448 - val_loss: 0.7681 - val_accuracy: 0.7393\n",
            "Epoch 9/30\n",
            "50/50 [==============================] - 2s 36ms/step - loss: 0.1492 - accuracy: 0.9535 - val_loss: 0.7941 - val_accuracy: 0.7469\n",
            "Epoch 10/30\n",
            "50/50 [==============================] - 2s 37ms/step - loss: 0.1301 - accuracy: 0.9636 - val_loss: 0.7698 - val_accuracy: 0.7419\n",
            "Epoch 11/30\n",
            "50/50 [==============================] - 2s 37ms/step - loss: 0.1289 - accuracy: 0.9636 - val_loss: 0.7566 - val_accuracy: 0.7469\n",
            "Epoch 12/30\n",
            "50/50 [==============================] - 2s 37ms/step - loss: 0.1426 - accuracy: 0.9548 - val_loss: 0.8906 - val_accuracy: 0.7544\n",
            "Epoch 13/30\n",
            "50/50 [==============================] - 3s 52ms/step - loss: 0.1035 - accuracy: 0.9749 - val_loss: 0.8610 - val_accuracy: 0.7544\n",
            "Epoch 14/30\n",
            "50/50 [==============================] - 4s 70ms/step - loss: 0.1134 - accuracy: 0.9667 - val_loss: 0.9016 - val_accuracy: 0.7343\n",
            "Epoch 15/30\n",
            "50/50 [==============================] - 2s 37ms/step - loss: 0.1101 - accuracy: 0.9686 - val_loss: 1.0259 - val_accuracy: 0.7393\n",
            "Epoch 16/30\n",
            "50/50 [==============================] - 2s 37ms/step - loss: 0.0737 - accuracy: 0.9856 - val_loss: 1.0069 - val_accuracy: 0.7343\n",
            "Epoch 17/30\n",
            "50/50 [==============================] - 2s 40ms/step - loss: 0.0609 - accuracy: 0.9900 - val_loss: 1.0692 - val_accuracy: 0.7293\n",
            "Epoch 18/30\n",
            "50/50 [==============================] - 2s 38ms/step - loss: 0.0529 - accuracy: 0.9912 - val_loss: 1.1303 - val_accuracy: 0.7469\n",
            "Epoch 19/30\n",
            "50/50 [==============================] - 2s 37ms/step - loss: 0.0471 - accuracy: 0.9925 - val_loss: 1.1978 - val_accuracy: 0.7318\n",
            "Epoch 20/30\n",
            "50/50 [==============================] - 3s 59ms/step - loss: 0.0439 - accuracy: 0.9937 - val_loss: 1.2057 - val_accuracy: 0.7469\n",
            "Epoch 21/30\n",
            "50/50 [==============================] - 3s 60ms/step - loss: 0.0412 - accuracy: 0.9937 - val_loss: 1.2387 - val_accuracy: 0.7393\n",
            "Epoch 22/30\n",
            "50/50 [==============================] - 2s 37ms/step - loss: 0.0443 - accuracy: 0.9912 - val_loss: 1.1203 - val_accuracy: 0.7368\n",
            "Epoch 23/30\n",
            "50/50 [==============================] - 2s 37ms/step - loss: 0.1009 - accuracy: 0.9718 - val_loss: 1.2053 - val_accuracy: 0.7318\n",
            "Epoch 24/30\n",
            "50/50 [==============================] - 2s 37ms/step - loss: 0.0628 - accuracy: 0.9831 - val_loss: 1.1874 - val_accuracy: 0.7268\n",
            "Epoch 25/30\n",
            "50/50 [==============================] - 2s 37ms/step - loss: 0.0448 - accuracy: 0.9918 - val_loss: 1.3118 - val_accuracy: 0.7243\n",
            "Epoch 26/30\n",
            "50/50 [==============================] - 2s 40ms/step - loss: 0.0388 - accuracy: 0.9944 - val_loss: 1.3533 - val_accuracy: 0.7218\n",
            "Epoch 27/30\n",
            "50/50 [==============================] - 4s 74ms/step - loss: 0.0367 - accuracy: 0.9944 - val_loss: 1.3638 - val_accuracy: 0.7218\n",
            "Epoch 28/30\n",
            "50/50 [==============================] - 3s 52ms/step - loss: 0.0350 - accuracy: 0.9944 - val_loss: 1.3920 - val_accuracy: 0.7218\n",
            "Epoch 29/30\n",
            "50/50 [==============================] - 2s 39ms/step - loss: 0.0340 - accuracy: 0.9950 - val_loss: 1.4236 - val_accuracy: 0.7268\n",
            "Epoch 30/30\n",
            "50/50 [==============================] - 2s 43ms/step - loss: 0.0331 - accuracy: 0.9950 - val_loss: 1.4610 - val_accuracy: 0.7293\n"
          ]
        },
        {
          "output_type": "display_data",
          "data": {
            "text/plain": [
              "<Figure size 432x288 with 1 Axes>"
            ],
            "image/png": "[encoded data removed]"
          },
          "metadata": {
            "needs_background": "light"
          }
        },
        {
          "output_type": "display_data",
          "data": {
            "text/plain": [
              "<Figure size 432x288 with 1 Axes>"
            ],
            "image/png": "[encoded data removed]"
          },
          "metadata": {
            "needs_background": "light"
          }
        },
        {
          "output_type": "stream",
          "name": "stdout",
          "text": [
            "1/1 [==============================] - 1s 1s/step\n",
            "[  4 281  16  25   0   0   0   0   0   0   0   0   0   0   0   0   0   0\n",
            "   0   0   0   0   0   0   0   0   0   0   0   0   0   0   0   0   0   0\n",
            "   0   0   0   0   0   0   0   0   0   0   0   0   0   0]\n",
            "I love this phone\n",
            "[0.99797434]\n",
            "\n",
            "\n",
            "[812 227 864 100 775   9 525 843   0   0   0   0   0   0   0   0   0   0\n",
            "   0   0   0   0   0   0   0   0   0   0   0   0   0   0   0   0   0   0\n",
            "   0   0   0   0   0   0   0   0   0   0   0   0   0   0]\n",
            "Everything was cold\n",
            "[0.0192579]\n",
            "\n",
            "\n",
            "[812 227 864 100 775   9 109   8 333 731  24  61   4 171  59  77   0   0\n",
            "   0   0   0   0   0   0   0   0   0   0   0   0   0   0   0   0   0   0\n",
            "   0   0   0   0   0   0   0   0   0   0   0   0   0   0]\n",
            "Everything was hot exactly as I wanted\n",
            "[0.65653676]\n",
            "\n",
            "\n",
            "[812 227 864 100 775   9 157 359 853   0   0   0   0   0   0   0   0   0\n",
            "   0   0   0   0   0   0   0   0   0   0   0   0   0   0   0   0   0   0\n",
            "   0   0   0   0   0   0   0   0   0   0   0   0   0   0]\n",
            "Everything was green\n",
            "[0.02404968]\n",
            "\n",
            "\n",
            "[  1 109 228 540 237 635 241 423 340  89 298   0   0   0   0   0   0   0\n",
            "   0   0   0   0   0   0   0   0   0   0   0   0   0   0   0   0   0   0\n",
            "   0   0   0   0   0   0   0   0   0   0   0   0   0   0]\n",
            "the host seated us immediately\n",
            "[0.99894863]\n",
            "\n",
            "\n",
            "[154 242  47 635 341  12 569 547 147 319 775 125  85   0   0   0   0   0\n",
            "   0   0   0   0   0   0   0   0   0   0   0   0   0   0   0   0   0   0\n",
            "   0   0   0   0   0   0   0   0   0   0   0   0   0   0]\n",
            "they gave us free chocolate cake\n",
            "[0.9985673]\n",
            "\n",
            "\n",
            "[158 190 853 782   8 607 775 210 232 146 775 470  67 305 101  15   1 328\n",
            " 296  26  19   1 661 641 195   0   0   0   0   0   0   0   0   0   0   0\n",
            "   0   0   0   0   0   0   0   0   0   0   0   0   0   0]\n",
            "we couldn't hear each other talk because of the shouting in the kitchen\n",
            "[0.00794165]\n",
            "\n",
            "\n"
          ]
        }
      ],
      "source": [
        "# Define the model\n",
        "model_bidi_lstm = tf.keras.Sequential([\n",
        "    tf.keras.layers.Embedding(vocab_size, embedding_dim, input_length=max_length),\n",
        "    tf.keras.layers.Bidirectional(tf.keras.layers.LSTM(embedding_dim)), \n",
        "    tf.keras.layers.Dense(6, activation='relu'), \n",
        "    tf.keras.layers.Dense(1, activation='sigmoid')\n",
        "])\n",
        "\n",
        "# Compile and train the model and then show the predictions for our extra sentences\n",
        "fit_model_and_show_results(model_bidi_lstm, fake_reviews)"
      ]
    },
    {
      "cell_type": "markdown",
      "metadata": {
        "id": "SHzDN6XoKpFC"
      },
      "source": [
        "## use multiple bidirectional layers"
      ]
    },
    {
      "cell_type": "code",
      "execution_count": 16,
      "metadata": {
        "colab": {
          "base_uri": "https://localhost:8080/",
          "height": 1000
        },
        "id": "6INoHRnnKpFC",
        "outputId": "b2e1a0ea-6105-4e20-d9d8-1d1a319db133"
      },
      "outputs": [
        {
          "output_type": "stream",
          "name": "stdout",
          "text": [
            "Model: \"sequential_2\"\n",
            "_________________________________________________________________\n",
            " Layer (type)                Output Shape              Param #   \n",
            "=================================================================\n",
            " embedding_2 (Embedding)     (None, 50, 16)            16000     \n",
            "                                                                 \n",
            " bidirectional_1 (Bidirectio  (None, 50, 32)           4224      \n",
            " nal)                                                            \n",
            "                                                                 \n",
            " bidirectional_2 (Bidirectio  (None, 32)               6272      \n",
            " nal)                                                            \n",
            "                                                                 \n",
            " dense_4 (Dense)             (None, 6)                 198       \n",
            "                                                                 \n",
            " dense_5 (Dense)             (None, 1)                 7         \n",
            "                                                                 \n",
            "=================================================================\n",
            "Total params: 26,701\n",
            "Trainable params: 26,701\n",
            "Non-trainable params: 0\n",
            "_________________________________________________________________\n",
            "Epoch 1/30\n",
            "50/50 [==============================] - 16s 153ms/step - loss: 0.6930 - accuracy: 0.5173 - val_loss: 0.6945 - val_accuracy: 0.4110\n",
            "Epoch 2/30\n",
            "50/50 [==============================] - 4s 73ms/step - loss: 0.6928 - accuracy: 0.5223 - val_loss: 0.6955 - val_accuracy: 0.4110\n",
            "Epoch 3/30\n",
            "50/50 [==============================] - 5s 94ms/step - loss: 0.6926 - accuracy: 0.5223 - val_loss: 0.6963 - val_accuracy: 0.4110\n",
            "Epoch 4/30\n",
            "50/50 [==============================] - 5s 108ms/step - loss: 0.6925 - accuracy: 0.5223 - val_loss: 0.6967 - val_accuracy: 0.4110\n",
            "Epoch 5/30\n",
            "50/50 [==============================] - 6s 117ms/step - loss: 0.6924 - accuracy: 0.5223 - val_loss: 0.6977 - val_accuracy: 0.4110\n",
            "Epoch 6/30\n",
            "50/50 [==============================] - 7s 135ms/step - loss: 0.6924 - accuracy: 0.5223 - val_loss: 0.6981 - val_accuracy: 0.4110\n",
            "Epoch 7/30\n",
            "50/50 [==============================] - 4s 76ms/step - loss: 0.6923 - accuracy: 0.5223 - val_loss: 0.6985 - val_accuracy: 0.4110\n",
            "Epoch 8/30\n",
            "50/50 [==============================] - 4s 74ms/step - loss: 0.6923 - accuracy: 0.5223 - val_loss: 0.6992 - val_accuracy: 0.4110\n",
            "Epoch 9/30\n",
            "50/50 [==============================] - 5s 105ms/step - loss: 0.6923 - accuracy: 0.5223 - val_loss: 0.6999 - val_accuracy: 0.4110\n",
            "Epoch 10/30\n",
            "50/50 [==============================] - 5s 93ms/step - loss: 0.6922 - accuracy: 0.5223 - val_loss: 0.6998 - val_accuracy: 0.4110\n",
            "Epoch 11/30\n",
            "50/50 [==============================] - 4s 77ms/step - loss: 0.6922 - accuracy: 0.5223 - val_loss: 0.7000 - val_accuracy: 0.4110\n",
            "Epoch 12/30\n",
            "50/50 [==============================] - 4s 84ms/step - loss: 0.6922 - accuracy: 0.5223 - val_loss: 0.7003 - val_accuracy: 0.4110\n",
            "Epoch 13/30\n",
            "50/50 [==============================] - 6s 111ms/step - loss: 0.6922 - accuracy: 0.5223 - val_loss: 0.7004 - val_accuracy: 0.4110\n",
            "Epoch 14/30\n",
            "50/50 [==============================] - 4s 79ms/step - loss: 0.6923 - accuracy: 0.5223 - val_loss: 0.7012 - val_accuracy: 0.4110\n",
            "Epoch 15/30\n",
            "50/50 [==============================] - 4s 80ms/step - loss: 0.6922 - accuracy: 0.5223 - val_loss: 0.7007 - val_accuracy: 0.4110\n",
            "Epoch 16/30\n",
            "50/50 [==============================] - 6s 123ms/step - loss: 0.6922 - accuracy: 0.5223 - val_loss: 0.7013 - val_accuracy: 0.4110\n",
            "Epoch 17/30\n",
            "50/50 [==============================] - 4s 78ms/step - loss: 0.6922 - accuracy: 0.5223 - val_loss: 0.7010 - val_accuracy: 0.4110\n",
            "Epoch 18/30\n",
            "50/50 [==============================] - 4s 78ms/step - loss: 0.6922 - accuracy: 0.5223 - val_loss: 0.7014 - val_accuracy: 0.4110\n",
            "Epoch 19/30\n",
            "50/50 [==============================] - 6s 119ms/step - loss: 0.6922 - accuracy: 0.5223 - val_loss: 0.7012 - val_accuracy: 0.4110\n",
            "Epoch 20/30\n",
            "50/50 [==============================] - 4s 85ms/step - loss: 0.6922 - accuracy: 0.5223 - val_loss: 0.7013 - val_accuracy: 0.4110\n",
            "Epoch 21/30\n",
            "50/50 [==============================] - 5s 105ms/step - loss: 0.6922 - accuracy: 0.5223 - val_loss: 0.7015 - val_accuracy: 0.4110\n",
            "Epoch 22/30\n",
            "50/50 [==============================] - 6s 127ms/step - loss: 0.6922 - accuracy: 0.5223 - val_loss: 0.7017 - val_accuracy: 0.4110\n",
            "Epoch 23/30\n",
            "50/50 [==============================] - 4s 79ms/step - loss: 0.6922 - accuracy: 0.5223 - val_loss: 0.7019 - val_accuracy: 0.4110\n",
            "Epoch 24/30\n",
            "50/50 [==============================] - 4s 78ms/step - loss: 0.6922 - accuracy: 0.5223 - val_loss: 0.7015 - val_accuracy: 0.4110\n",
            "Epoch 25/30\n",
            "50/50 [==============================] - 6s 122ms/step - loss: 0.6922 - accuracy: 0.5223 - val_loss: 0.7019 - val_accuracy: 0.4110\n",
            "Epoch 26/30\n",
            "50/50 [==============================] - 5s 91ms/step - loss: 0.6922 - accuracy: 0.5223 - val_loss: 0.7017 - val_accuracy: 0.4110\n",
            "Epoch 27/30\n",
            "50/50 [==============================] - 4s 82ms/step - loss: 0.6922 - accuracy: 0.5223 - val_loss: 0.7018 - val_accuracy: 0.4110\n",
            "Epoch 28/30\n",
            "50/50 [==============================] - 7s 132ms/step - loss: 0.6922 - accuracy: 0.5223 - val_loss: 0.7017 - val_accuracy: 0.4110\n",
            "Epoch 29/30\n",
            "50/50 [==============================] - 4s 85ms/step - loss: 0.6922 - accuracy: 0.5223 - val_loss: 0.7019 - val_accuracy: 0.4110\n",
            "Epoch 30/30\n",
            "50/50 [==============================] - 4s 89ms/step - loss: 0.6922 - accuracy: 0.5223 - val_loss: 0.7019 - val_accuracy: 0.4110\n"
          ]
        },
        {
          "output_type": "display_data",
          "data": {
            "text/plain": [
              "<Figure size 432x288 with 1 Axes>"
            ],
            "image/png": "[encoded data removed]"
          },
          "metadata": {
            "needs_background": "light"
          }
        },
        {
          "output_type": "display_data",
          "data": {
            "text/plain": [
              "<Figure size 432x288 with 1 Axes>"
            ],
            "image/png": "[encoded data removed]"
          },
          "metadata": {
            "needs_background": "light"
          }
        },
        {
          "output_type": "stream",
          "name": "stdout",
          "text": [
            "1/1 [==============================] - 3s 3s/step\n",
            "[  4 281  16  25   0   0   0   0   0   0   0   0   0   0   0   0   0   0\n",
            "   0   0   0   0   0   0   0   0   0   0   0   0   0   0   0   0   0   0\n",
            "   0   0   0   0   0   0   0   0   0   0   0   0   0   0]\n",
            "I love this phone\n",
            "[0.5219779]\n",
            "\n",
            "\n",
            "[812 227 864 100 775   9 525 843   0   0   0   0   0   0   0   0   0   0\n",
            "   0   0   0   0   0   0   0   0   0   0   0   0   0   0   0   0   0   0\n",
            "   0   0   0   0   0   0   0   0   0   0   0   0   0   0]\n",
            "Everything was cold\n",
            "[0.5219779]\n",
            "\n",
            "\n",
            "[812 227 864 100 775   9 109   8 333 731  24  61   4 171  59  77   0   0\n",
            "   0   0   0   0   0   0   0   0   0   0   0   0   0   0   0   0   0   0\n",
            "   0   0   0   0   0   0   0   0   0   0   0   0   0   0]\n",
            "Everything was hot exactly as I wanted\n",
            "[0.5219779]\n",
            "\n",
            "\n",
            "[812 227 864 100 775   9 157 359 853   0   0   0   0   0   0   0   0   0\n",
            "   0   0   0   0   0   0   0   0   0   0   0   0   0   0   0   0   0   0\n",
            "   0   0   0   0   0   0   0   0   0   0   0   0   0   0]\n",
            "Everything was green\n",
            "[0.5219779]\n",
            "\n",
            "\n",
            "[  1 109 228 540 237 635 241 423 340  89 298   0   0   0   0   0   0   0\n",
            "   0   0   0   0   0   0   0   0   0   0   0   0   0   0   0   0   0   0\n",
            "   0   0   0   0   0   0   0   0   0   0   0   0   0   0]\n",
            "the host seated us immediately\n",
            "[0.5219779]\n",
            "\n",
            "\n",
            "[154 242  47 635 341  12 569 547 147 319 775 125  85   0   0   0   0   0\n",
            "   0   0   0   0   0   0   0   0   0   0   0   0   0   0   0   0   0   0\n",
            "   0   0   0   0   0   0   0   0   0   0   0   0   0   0]\n",
            "they gave us free chocolate cake\n",
            "[0.5219779]\n",
            "\n",
            "\n",
            "[158 190 853 782   8 607 775 210 232 146 775 470  67 305 101  15   1 328\n",
            " 296  26  19   1 661 641 195   0   0   0   0   0   0   0   0   0   0   0\n",
            "   0   0   0   0   0   0   0   0   0   0   0   0   0   0]\n",
            "we couldn't hear each other talk because of the shouting in the kitchen\n",
            "[0.5219779]\n",
            "\n",
            "\n"
          ]
        }
      ],
      "source": [
        "model_multiple_bidi_lstm = tf.keras.Sequential([\n",
        "    tf.keras.layers.Embedding(vocab_size, embedding_dim, input_length=max_length),\n",
        "    tf.keras.layers.Bidirectional(tf.keras.layers.LSTM(embedding_dim, \n",
        "                                                       return_sequences=True)), \n",
        "    tf.keras.layers.Bidirectional(tf.keras.layers.LSTM(embedding_dim)),\n",
        "    tf.keras.layers.Dense(6, activation='relu'),\n",
        "    tf.keras.layers.Dense(1, activation='sigmoid')\n",
        "])\n",
        "\n",
        "fit_model_and_show_results(model_multiple_bidi_lstm, fake_reviews)"
      ]
    },
    {
      "cell_type": "code",
      "execution_count": 17,
      "metadata": {
        "id": "M7k6w0UhKpFC"
      },
      "outputs": [],
      "source": [
        "# adding more reviews for fun\n",
        "\n",
        "my_reviews =[\"lovely\", \"dreadful\", \"stay away\",\n",
        "             \"everything was hot exactly as I wanted\",\n",
        "             \"everything was not exactly as I wanted\",\n",
        "             \"they gave us free chocolate cake\",\n",
        "             \"I've never eaten anything so spicy in my life, my throat burned for hours\",\n",
        "             \"for a phone that is as expensive as this one I expect it to be much easier to use than this thing is\",\n",
        "             \"we left there very full for a low price so I'd say you just can't go wrong at this place\",\n",
        "             \"that place does not have quality meals and it isn't a good place to go for dinner\",\n",
        "             ]"
      ]
    },
    {
      "cell_type": "code",
      "execution_count": 18,
      "metadata": {
        "colab": {
          "base_uri": "https://localhost:8080/"
        },
        "id": "0uoGWKOnKpFD",
        "outputId": "842954c6-6f7f-452f-f6a3-aa97685e56cd"
      },
      "outputs": [
        {
          "output_type": "stream",
          "name": "stdout",
          "text": [
            "===================================\n",
            " Embeddings only:\n",
            " ===================================\n",
            "1/1 [==============================] - 0s 29ms/step\n",
            "lovely\n",
            "[0.87649816]\n",
            "\n",
            "\n",
            "dreadful\n",
            "[0.20169482]\n",
            "\n",
            "\n",
            "stay away\n",
            "[0.5093937]\n",
            "\n",
            "\n",
            "everything was hot exactly as I wanted\n",
            "[0.6632323]\n",
            "\n",
            "\n",
            "everything was not exactly as I wanted\n",
            "[0.41680935]\n",
            "\n",
            "\n",
            "they gave us free chocolate cake\n",
            "[0.5920946]\n",
            "\n",
            "\n",
            "I've never eaten anything so spicy in my life, my throat burned for hours\n",
            "[0.01389599]\n",
            "\n",
            "\n",
            "for a phone that is as expensive as this one I expect it to be much easier to use than this thing is\n",
            "[0.47690645]\n",
            "\n",
            "\n",
            "we left there very full for a low price so I'd say you just can't go wrong at this place\n",
            "[0.7020407]\n",
            "\n",
            "\n",
            "that place does not have quality meals and it isn't a good place to go for dinner\n",
            "[0.8092877]\n",
            "\n",
            "\n"
          ]
        }
      ],
      "source": [
        "print(\"===================================\\n\",\"Embeddings only:\\n\", \"===================================\",)\n",
        "predict_review(model, my_reviews, show_padded_sequence=False)"
      ]
    },
    {
      "cell_type": "code",
      "execution_count": 19,
      "metadata": {
        "colab": {
          "base_uri": "https://localhost:8080/"
        },
        "id": "gcH1S2UQKpFD",
        "outputId": "bd5ed20f-1f91-47d0-9e5b-edd88e79330b"
      },
      "outputs": [
        {
          "output_type": "stream",
          "name": "stdout",
          "text": [
            "===================================\n",
            " With a single bidirectional LSTM:\n",
            " ===================================\n",
            "1/1 [==============================] - 0s 56ms/step\n",
            "lovely\n",
            "[0.9978633]\n",
            "\n",
            "\n",
            "dreadful\n",
            "[0.00907802]\n",
            "\n",
            "\n",
            "stay away\n",
            "[0.04634877]\n",
            "\n",
            "\n",
            "everything was hot exactly as I wanted\n",
            "[0.88915974]\n",
            "\n",
            "\n",
            "everything was not exactly as I wanted\n",
            "[0.01070927]\n",
            "\n",
            "\n",
            "they gave us free chocolate cake\n",
            "[0.9985673]\n",
            "\n",
            "\n",
            "I've never eaten anything so spicy in my life, my throat burned for hours\n",
            "[0.06758616]\n",
            "\n",
            "\n",
            "for a phone that is as expensive as this one I expect it to be much easier to use than this thing is\n",
            "[0.00928407]\n",
            "\n",
            "\n",
            "we left there very full for a low price so I'd say you just can't go wrong at this place\n",
            "[0.99989134]\n",
            "\n",
            "\n",
            "that place does not have quality meals and it isn't a good place to go for dinner\n",
            "[0.00932208]\n",
            "\n",
            "\n"
          ]
        }
      ],
      "source": [
        "print(\"===================================\\n\", \"With a single bidirectional LSTM:\\n\", \"===================================\")\n",
        "predict_review(model_bidi_lstm, my_reviews, show_padded_sequence=False)"
      ]
    },
    {
      "cell_type": "code",
      "execution_count": 20,
      "metadata": {
        "colab": {
          "base_uri": "https://localhost:8080/"
        },
        "id": "ASzKOaurKpFD",
        "outputId": "ec0b2612-0e17-4bf9-ad02-df69a7cb772e"
      },
      "outputs": [
        {
          "output_type": "stream",
          "name": "stdout",
          "text": [
            "===================================\n",
            " With two bidirectional LSTMs:\n",
            " ===================================\n",
            "1/1 [==============================] - 0s 59ms/step\n",
            "lovely\n",
            "[0.5219779]\n",
            "\n",
            "\n",
            "dreadful\n",
            "[0.5219779]\n",
            "\n",
            "\n",
            "stay away\n",
            "[0.5219779]\n",
            "\n",
            "\n",
            "everything was hot exactly as I wanted\n",
            "[0.5219779]\n",
            "\n",
            "\n",
            "everything was not exactly as I wanted\n",
            "[0.5219779]\n",
            "\n",
            "\n",
            "they gave us free chocolate cake\n",
            "[0.5219779]\n",
            "\n",
            "\n",
            "I've never eaten anything so spicy in my life, my throat burned for hours\n",
            "[0.5219779]\n",
            "\n",
            "\n",
            "for a phone that is as expensive as this one I expect it to be much easier to use than this thing is\n",
            "[0.5219779]\n",
            "\n",
            "\n",
            "we left there very full for a low price so I'd say you just can't go wrong at this place\n",
            "[0.5219779]\n",
            "\n",
            "\n",
            "that place does not have quality meals and it isn't a good place to go for dinner\n",
            "[0.5219779]\n",
            "\n",
            "\n"
          ]
        }
      ],
      "source": [
        "print(\"===================================\\n\",\"With two bidirectional LSTMs:\\n\", \"===================================\")\n",
        "predict_review(model_multiple_bidi_lstm, my_reviews, show_padded_sequence=False)"
      ]
    }
  ],
  "metadata": {
    "kernelspec": {
      "display_name": "Python 3",
      "language": "python",
      "name": "python3"
    },
    "language_info": {
      "name": "python",
      "version": "3.7.5"
    },
    "orig_nbformat": 4,
    "colab": {
      "provenance": [],
      "include_colab_link": true
    },
    "accelerator": "TPU",
    "gpuClass": "standard"
  },
  "nbformat": 4,
  "nbformat_minor": 0
}