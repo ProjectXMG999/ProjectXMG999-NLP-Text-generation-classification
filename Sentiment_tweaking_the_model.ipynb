{
  "cells": [
    {
      "cell_type": "markdown",
      "metadata": {
        "id": "view-in-github",
        "colab_type": "text"
      },
      "source": [
        "<a href=\"https://colab.research.google.com/github/ProjectXMG999/ProjectXMG999-NLP-Text-generation-classification/blob/main/Sentiment_tweaking_the_model.ipynb\" target=\"_parent\"><img src=\"https://colab.research.google.com/assets/colab-badge.svg\" alt=\"Open In Colab\"/></a>"
      ]
    },
    {
      "cell_type": "markdown",
      "metadata": {
        "id": "9U0nzqDROiLk"
      },
      "source": [
        "# Tweaking the model\n",
        "\n",
        "- padding, embedding dimensions\n",
        "- flatten vs. global average pooling\n",
        "- dataset of reviews from amazon and yelp\n",
        "- using projector tensorflow for visualize data"
      ]
    },
    {
      "cell_type": "code",
      "execution_count": 1,
      "metadata": {
        "id": "i0YHOEUeOiLq"
      },
      "outputs": [],
      "source": [
        "import tensorflow as tf\n",
        "\n",
        "from keras.preprocessing.text import Tokenizer\n",
        "from keras.utils import pad_sequences"
      ]
    },
    {
      "cell_type": "code",
      "execution_count": 2,
      "metadata": {
        "colab": {
          "base_uri": "https://localhost:8080/"
        },
        "id": "sNBtxBx_OiLs",
        "outputId": "cc91e8a9-af94-4f17-b97e-828982287d06"
      },
      "outputs": [
        {
          "output_type": "stream",
          "name": "stdout",
          "text": [
            "--2023-03-09 21:15:46--  https://drive.google.com/uc?id=13ySLC_ue6Umt9RJYSeM2t-V0kCv-4C-P\n",
            "Resolving drive.google.com (drive.google.com)... 172.253.119.139, 172.253.119.102, 172.253.119.101, ...\n",
            "Connecting to drive.google.com (drive.google.com)|172.253.119.139|:443... connected.\n",
            "HTTP request sent, awaiting response... 303 See Other\n",
            "Location: https://doc-08-ak-docs.googleusercontent.com/docs/securesc/ha0ro937gcuc7l7deffksulhg5h7mbp1/dahpipav4gbk6nbpehi8jjahlpu1aiup/1678396500000/11118900490791463723/*/13ySLC_ue6Umt9RJYSeM2t-V0kCv-4C-P?uuid=c112e3dd-aa3d-4e33-b224-1cfe2e8f12ec [following]\n",
            "Warning: wildcards not supported in HTTP.\n",
            "--2023-03-09 21:15:46--  https://doc-08-ak-docs.googleusercontent.com/docs/securesc/ha0ro937gcuc7l7deffksulhg5h7mbp1/dahpipav4gbk6nbpehi8jjahlpu1aiup/1678396500000/11118900490791463723/*/13ySLC_ue6Umt9RJYSeM2t-V0kCv-4C-P?uuid=c112e3dd-aa3d-4e33-b224-1cfe2e8f12ec\n",
            "Resolving doc-08-ak-docs.googleusercontent.com (doc-08-ak-docs.googleusercontent.com)... 173.194.193.132, 2607:f8b0:4001:c0f::84\n",
            "Connecting to doc-08-ak-docs.googleusercontent.com (doc-08-ak-docs.googleusercontent.com)|173.194.193.132|:443... connected.\n",
            "HTTP request sent, awaiting response... 200 OK\n",
            "Length: 127831 (125K) [text/csv]\n",
            "Saving to: ‘/tmp/sentiment.csv’\n",
            "\n",
            "/tmp/sentiment.csv  100%[===================>] 124.83K  --.-KB/s    in 0.002s  \n",
            "\n",
            "2023-03-09 21:15:46 (77.9 MB/s) - ‘/tmp/sentiment.csv’ saved [127831/127831]\n",
            "\n"
          ]
        }
      ],
      "source": [
        "!wget --no-check-certificate \\\n",
        "    https://drive.google.com/uc?id=13ySLC_ue6Umt9RJYSeM2t-V0kCv-4C-P \\\n",
        "    -O /tmp/sentiment.csv"
      ]
    },
    {
      "cell_type": "code",
      "execution_count": 3,
      "metadata": {
        "id": "f5_VQgIUOiLv"
      },
      "outputs": [],
      "source": [
        "import numpy as np\n",
        "import pandas as pd\n",
        "\n",
        "dataset = pd.read_csv('/tmp/sentiment.csv')\n",
        "\n",
        "sentences = dataset['text'].tolist()\n",
        "labels = dataset['sentiment'].tolist()\n",
        "\n",
        "# Separate out the sentences and labels into training and test sets\n",
        "training_size = int(len(sentences) * 0.8)\n",
        "\n",
        "training_sentences = sentences[0:training_size]\n",
        "testing_sentences = sentences[training_size:]\n",
        "training_labels = labels[0:training_size]\n",
        "testing_labels = labels[training_size:]\n",
        "\n",
        "# Make labels into numpy arrays for use with the network later\n",
        "training_labels_final = np.array(training_labels)\n",
        "testing_labels_final = np.array(testing_labels)"
      ]
    },
    {
      "cell_type": "code",
      "execution_count": 4,
      "metadata": {
        "id": "T4BNz9JbOiLw"
      },
      "outputs": [],
      "source": [
        "# tokenize the dataset with tweaks"
      ]
    },
    {
      "cell_type": "code",
      "execution_count": 5,
      "metadata": {
        "id": "Q8H2BD0KOiLx"
      },
      "outputs": [],
      "source": [
        "\n",
        "\n",
        "vocab_size = 500\n",
        "embedding_dim = 16\n",
        "max_length = 50\n",
        "trunc_type='post'\n",
        "padding_type='post'\n",
        "oov_tok = \"<OOV>\"\n",
        "\n",
        "\n",
        "\n",
        "tokenizer = Tokenizer(num_words = vocab_size, oov_token=oov_tok)\n",
        "tokenizer.fit_on_texts(training_sentences)\n",
        "word_index = tokenizer.word_index\n",
        "training_sequences = tokenizer.texts_to_sequences(training_sentences)\n",
        "training_padded = pad_sequences(training_sequences, maxlen=max_length, padding=padding_type, truncating=trunc_type)\n",
        "\n",
        "testing_sequences = tokenizer.texts_to_sequences(testing_sentences)\n",
        "testing_padded = pad_sequences(testing_sequences, maxlen=max_length, padding=padding_type, truncating=trunc_type)"
      ]
    },
    {
      "cell_type": "code",
      "execution_count": 6,
      "metadata": {
        "colab": {
          "base_uri": "https://localhost:8080/"
        },
        "id": "pUFGdujXOiLy",
        "outputId": "aedf9d50-d158-4076-9de3-bfb3a6b0049d"
      },
      "outputs": [
        {
          "output_type": "stream",
          "name": "stdout",
          "text": [
            "Model: \"sequential\"\n",
            "_________________________________________________________________\n",
            " Layer (type)                Output Shape              Param #   \n",
            "=================================================================\n",
            " embedding (Embedding)       (None, 50, 16)            8000      \n",
            "                                                                 \n",
            " global_average_pooling1d (G  (None, 16)               0         \n",
            " lobalAveragePooling1D)                                          \n",
            "                                                                 \n",
            " dense (Dense)               (None, 6)                 102       \n",
            "                                                                 \n",
            " dense_1 (Dense)             (None, 1)                 7         \n",
            "                                                                 \n",
            "=================================================================\n",
            "Total params: 8,109\n",
            "Trainable params: 8,109\n",
            "Non-trainable params: 0\n",
            "_________________________________________________________________\n"
          ]
        }
      ],
      "source": [
        "# train the model\n",
        "# using GlobalAveragePooling1D instead of Flatten().\n",
        "\n",
        "\n",
        "model = tf.keras.Sequential([\n",
        "    tf.keras.layers.Embedding(vocab_size, embedding_dim, input_length=max_length),\n",
        "    tf.keras.layers.GlobalAveragePooling1D(),\n",
        "    tf.keras.layers.Dense(6, activation='relu'),\n",
        "    tf.keras.layers.Dense(1, activation='sigmoid')\n",
        "])\n",
        "model.compile(loss='binary_crossentropy',optimizer='adam',metrics=['accuracy'])\n",
        "model.summary()"
      ]
    },
    {
      "cell_type": "code",
      "execution_count": 7,
      "metadata": {
        "colab": {
          "base_uri": "https://localhost:8080/"
        },
        "id": "WuTpuPl5OiLz",
        "outputId": "52b4ad88-6b2b-43c8-af79-d8d75d39eff7"
      },
      "outputs": [
        {
          "output_type": "stream",
          "name": "stdout",
          "text": [
            "Epoch 1/30\n",
            "50/50 [==============================] - 5s 30ms/step - loss: 0.6925 - accuracy: 0.5072 - val_loss: 0.6966 - val_accuracy: 0.4110\n",
            "Epoch 2/30\n",
            "50/50 [==============================] - 1s 20ms/step - loss: 0.6898 - accuracy: 0.5223 - val_loss: 0.6971 - val_accuracy: 0.4135\n",
            "Epoch 3/30\n",
            "50/50 [==============================] - 1s 18ms/step - loss: 0.6851 - accuracy: 0.5417 - val_loss: 0.6949 - val_accuracy: 0.4361\n",
            "Epoch 4/30\n",
            "50/50 [==============================] - 1s 11ms/step - loss: 0.6783 - accuracy: 0.5725 - val_loss: 0.6869 - val_accuracy: 0.4962\n",
            "Epoch 5/30\n",
            "50/50 [==============================] - 1s 10ms/step - loss: 0.6684 - accuracy: 0.6604 - val_loss: 0.6890 - val_accuracy: 0.4837\n",
            "Epoch 6/30\n",
            "50/50 [==============================] - 0s 8ms/step - loss: 0.6555 - accuracy: 0.6466 - val_loss: 0.6651 - val_accuracy: 0.6216\n",
            "Epoch 7/30\n",
            "50/50 [==============================] - 0s 7ms/step - loss: 0.6384 - accuracy: 0.7207 - val_loss: 0.6594 - val_accuracy: 0.5714\n",
            "Epoch 8/30\n",
            "50/50 [==============================] - 0s 10ms/step - loss: 0.6171 - accuracy: 0.7131 - val_loss: 0.6314 - val_accuracy: 0.7444\n",
            "Epoch 9/30\n",
            "50/50 [==============================] - 1s 10ms/step - loss: 0.5912 - accuracy: 0.7891 - val_loss: 0.6400 - val_accuracy: 0.5815\n",
            "Epoch 10/30\n",
            "50/50 [==============================] - 1s 16ms/step - loss: 0.5666 - accuracy: 0.7759 - val_loss: 0.6156 - val_accuracy: 0.6341\n",
            "Epoch 11/30\n",
            "50/50 [==============================] - 1s 17ms/step - loss: 0.5374 - accuracy: 0.7985 - val_loss: 0.5969 - val_accuracy: 0.6692\n",
            "Epoch 12/30\n",
            "50/50 [==============================] - 1s 13ms/step - loss: 0.5075 - accuracy: 0.8230 - val_loss: 0.5673 - val_accuracy: 0.7444\n",
            "Epoch 13/30\n",
            "50/50 [==============================] - 1s 13ms/step - loss: 0.4798 - accuracy: 0.8368 - val_loss: 0.5654 - val_accuracy: 0.7118\n",
            "Epoch 14/30\n",
            "50/50 [==============================] - 1s 15ms/step - loss: 0.4539 - accuracy: 0.8406 - val_loss: 0.5351 - val_accuracy: 0.7569\n",
            "Epoch 15/30\n",
            "50/50 [==============================] - 1s 16ms/step - loss: 0.4291 - accuracy: 0.8437 - val_loss: 0.5322 - val_accuracy: 0.7469\n",
            "Epoch 16/30\n",
            "50/50 [==============================] - 1s 11ms/step - loss: 0.4072 - accuracy: 0.8581 - val_loss: 0.5088 - val_accuracy: 0.7719\n",
            "Epoch 17/30\n",
            "50/50 [==============================] - 0s 6ms/step - loss: 0.3870 - accuracy: 0.8657 - val_loss: 0.4979 - val_accuracy: 0.7845\n",
            "Epoch 18/30\n",
            "50/50 [==============================] - 0s 7ms/step - loss: 0.3712 - accuracy: 0.8663 - val_loss: 0.5158 - val_accuracy: 0.7243\n",
            "Epoch 19/30\n",
            "50/50 [==============================] - 1s 14ms/step - loss: 0.3528 - accuracy: 0.8726 - val_loss: 0.5071 - val_accuracy: 0.7368\n",
            "Epoch 20/30\n",
            "50/50 [==============================] - 1s 12ms/step - loss: 0.3422 - accuracy: 0.8745 - val_loss: 0.4750 - val_accuracy: 0.7970\n",
            "Epoch 21/30\n",
            "50/50 [==============================] - 0s 7ms/step - loss: 0.3265 - accuracy: 0.8826 - val_loss: 0.4840 - val_accuracy: 0.7769\n",
            "Epoch 22/30\n",
            "50/50 [==============================] - 0s 6ms/step - loss: 0.3142 - accuracy: 0.8832 - val_loss: 0.4922 - val_accuracy: 0.7519\n",
            "Epoch 23/30\n",
            "50/50 [==============================] - 0s 7ms/step - loss: 0.3067 - accuracy: 0.8782 - val_loss: 0.4995 - val_accuracy: 0.7343\n",
            "Epoch 24/30\n",
            "50/50 [==============================] - 0s 7ms/step - loss: 0.2972 - accuracy: 0.8832 - val_loss: 0.4858 - val_accuracy: 0.7619\n",
            "Epoch 25/30\n",
            "50/50 [==============================] - 0s 9ms/step - loss: 0.2868 - accuracy: 0.8864 - val_loss: 0.4757 - val_accuracy: 0.7769\n",
            "Epoch 26/30\n",
            "50/50 [==============================] - 0s 9ms/step - loss: 0.2766 - accuracy: 0.8970 - val_loss: 0.4975 - val_accuracy: 0.7393\n",
            "Epoch 27/30\n",
            "50/50 [==============================] - 0s 9ms/step - loss: 0.2719 - accuracy: 0.8901 - val_loss: 0.4769 - val_accuracy: 0.7845\n",
            "Epoch 28/30\n",
            "50/50 [==============================] - 1s 11ms/step - loss: 0.2666 - accuracy: 0.8964 - val_loss: 0.5047 - val_accuracy: 0.7343\n",
            "Epoch 29/30\n",
            "50/50 [==============================] - 0s 9ms/step - loss: 0.2573 - accuracy: 0.9002 - val_loss: 0.5054 - val_accuracy: 0.7393\n",
            "Epoch 30/30\n",
            "50/50 [==============================] - 0s 7ms/step - loss: 0.2516 - accuracy: 0.9046 - val_loss: 0.4852 - val_accuracy: 0.7719\n"
          ]
        }
      ],
      "source": [
        "num_epochs = 30\n",
        "history = model.fit(training_padded, training_labels_final, epochs=num_epochs, validation_data=(testing_padded, testing_labels_final))"
      ]
    },
    {
      "cell_type": "code",
      "execution_count": 8,
      "metadata": {
        "colab": {
          "base_uri": "https://localhost:8080/",
          "height": 541
        },
        "id": "cY_3CdsiOiLz",
        "outputId": "356d2682-b86c-42f3-8b3a-bf15bd177293"
      },
      "outputs": [
        {
          "output_type": "display_data",
          "data": {
            "text/plain": [
              "<Figure size 432x288 with 1 Axes>"
            ],
            "image/png": "[encoded data removed]"
          },
          "metadata": {
            "needs_background": "light"
          }
        },
        {
          "output_type": "display_data",
          "data": {
            "text/plain": [
              "<Figure size 432x288 with 1 Axes>"
            ],
            "image/png": "[encoded data removed]"
          },
          "metadata": {
            "needs_background": "light"
          }
        }
      ],
      "source": [
        "import matplotlib.pyplot as plt\n",
        "\n",
        "# visualize the training and val accuracy\n",
        "\n",
        "def plot_graphs(history, string):\n",
        "  plt.plot(history.history[string])\n",
        "  plt.plot(history.history['val_'+string])\n",
        "  plt.xlabel(\"Epochs\")\n",
        "  plt.ylabel(string)\n",
        "  plt.legend([string, 'val_'+string])\n",
        "  plt.show()\n",
        "  \n",
        "plot_graphs(history, \"accuracy\")\n",
        "plot_graphs(history, \"loss\")"
      ]
    },
    {
      "cell_type": "code",
      "execution_count": 9,
      "metadata": {
        "colab": {
          "base_uri": "https://localhost:8080/"
        },
        "id": "y-FpobtYOiL0",
        "outputId": "51678d78-a9a1-4914-9b3e-2cf57022026b"
      },
      "outputs": [
        {
          "output_type": "stream",
          "name": "stdout",
          "text": [
            "(500, 16)\n"
          ]
        }
      ],
      "source": [
        "# First get the weights of the embedding layer\n",
        "e = model.layers[0]\n",
        "weights = e.get_weights()[0]\n",
        "print(weights.shape) # shape: (vocab_size, embedding_dim)"
      ]
    },
    {
      "cell_type": "code",
      "execution_count": 10,
      "metadata": {
        "id": "IC2phNq3OiL0"
      },
      "outputs": [],
      "source": [
        "import io\n",
        "\n",
        "# Create the reverse word index\n",
        "reverse_word_index = dict([(value, key) for (key, value) in word_index.items()])\n",
        "\n",
        "# Write out the embedding vectors and metadata\n",
        "out_v = io.open('vecs.tsv', 'w', encoding='utf-8')\n",
        "out_m = io.open('meta.tsv', 'w', encoding='utf-8')\n",
        "for word_num in range(1, vocab_size):\n",
        "  word = reverse_word_index[word_num]\n",
        "  embeddings = weights[word_num]\n",
        "  out_m.write(word + \"\\n\")\n",
        "  out_v.write('\\t'.join([str(x) for x in embeddings]) + \"\\n\")\n",
        "out_v.close()\n",
        "out_m.close()"
      ]
    },
    {
      "cell_type": "code",
      "execution_count": 11,
      "metadata": {
        "colab": {
          "base_uri": "https://localhost:8080/",
          "height": 17
        },
        "id": "29zve34fOiL2",
        "outputId": "16360ed1-aa3d-4c55-fad0-5aa839536a1a"
      },
      "outputs": [
        {
          "output_type": "display_data",
          "data": {
            "text/plain": [
              "<IPython.core.display.Javascript object>"
            ],
            "application/javascript": [
              "\n",
              "    async function download(id, filename, size) {\n",
              "      if (!google.colab.kernel.accessAllowed) {\n",
              "        return;\n",
              "      }\n",
              "      const div = document.createElement('div');\n",
              "      const label = document.createElement('label');\n",
              "      label.textContent = `Downloading \"${filename}\": `;\n",
              "      div.appendChild(label);\n",
              "      const progress = document.createElement('progress');\n",
              "      progress.max = size;\n",
              "      div.appendChild(progress);\n",
              "      document.body.appendChild(div);\n",
              "\n",
              "      const buffers = [];\n",
              "      let downloaded = 0;\n",
              "\n",
              "      const channel = await google.colab.kernel.comms.open(id);\n",
              "      // Send a message to notify the kernel that we're ready.\n",
              "      channel.send({})\n",
              "\n",
              "      for await (const message of channel.messages) {\n",
              "        // Send a message to notify the kernel that we're ready.\n",
              "        channel.send({})\n",
              "        if (message.buffers) {\n",
              "          for (const buffer of message.buffers) {\n",
              "            buffers.push(buffer);\n",
              "            downloaded += buffer.byteLength;\n",
              "            progress.value = downloaded;\n",
              "          }\n",
              "        }\n",
              "      }\n",
              "      const blob = new Blob(buffers, {type: 'application/binary'});\n",
              "      const a = document.createElement('a');\n",
              "      a.href = window.URL.createObjectURL(blob);\n",
              "      a.download = filename;\n",
              "      div.appendChild(a);\n",
              "      a.click();\n",
              "      div.remove();\n",
              "    }\n",
              "  "
            ]
          },
          "metadata": {}
        },
        {
          "output_type": "display_data",
          "data": {
            "text/plain": [
              "<IPython.core.display.Javascript object>"
            ],
            "application/javascript": [
              "download(\"download_1f5cfcd3-f9e5-48a5-9252-f49b9acd16fb\", \"vecs.tsv\", 91394)"
            ]
          },
          "metadata": {}
        },
        {
          "output_type": "display_data",
          "data": {
            "text/plain": [
              "<IPython.core.display.Javascript object>"
            ],
            "application/javascript": [
              "\n",
              "    async function download(id, filename, size) {\n",
              "      if (!google.colab.kernel.accessAllowed) {\n",
              "        return;\n",
              "      }\n",
              "      const div = document.createElement('div');\n",
              "      const label = document.createElement('label');\n",
              "      label.textContent = `Downloading \"${filename}\": `;\n",
              "      div.appendChild(label);\n",
              "      const progress = document.createElement('progress');\n",
              "      progress.max = size;\n",
              "      div.appendChild(progress);\n",
              "      document.body.appendChild(div);\n",
              "\n",
              "      const buffers = [];\n",
              "      let downloaded = 0;\n",
              "\n",
              "      const channel = await google.colab.kernel.comms.open(id);\n",
              "      // Send a message to notify the kernel that we're ready.\n",
              "      channel.send({})\n",
              "\n",
              "      for await (const message of channel.messages) {\n",
              "        // Send a message to notify the kernel that we're ready.\n",
              "        channel.send({})\n",
              "        if (message.buffers) {\n",
              "          for (const buffer of message.buffers) {\n",
              "            buffers.push(buffer);\n",
              "            downloaded += buffer.byteLength;\n",
              "            progress.value = downloaded;\n",
              "          }\n",
              "        }\n",
              "      }\n",
              "      const blob = new Blob(buffers, {type: 'application/binary'});\n",
              "      const a = document.createElement('a');\n",
              "      a.href = window.URL.createObjectURL(blob);\n",
              "      a.download = filename;\n",
              "      div.appendChild(a);\n",
              "      a.click();\n",
              "      div.remove();\n",
              "    }\n",
              "  "
            ]
          },
          "metadata": {}
        },
        {
          "output_type": "display_data",
          "data": {
            "text/plain": [
              "<IPython.core.display.Javascript object>"
            ],
            "application/javascript": [
              "download(\"download_2c1238ab-7d78-4eb5-8fc0-71c600b0b621\", \"meta.tsv\", 3025)"
            ]
          },
          "metadata": {}
        }
      ],
      "source": [
        "# Download the files\n",
        "try:\n",
        "  from google.colab import files\n",
        "except ImportError:\n",
        "  pass\n",
        "else:\n",
        "  files.download('vecs.tsv')\n",
        "  files.download('meta.tsv')"
      ]
    },
    {
      "cell_type": "markdown",
      "metadata": {
        "id": "MFx_evEuOiL2"
      },
      "source": [
        "http://projector.tensorflow.org/\n",
        "\n",
        "- You may run into errors with the projection if your vocab_size earlier was larger than the actual number of words in the vocabulary, in which case you'll need to decrease this variable and re-train in order to visualize."
      ]
    },
    {
      "cell_type": "markdown",
      "metadata": {
        "id": "x4i1WrZsOiL3"
      },
      "source": [
        "# predicting Sentiment in new reviews"
      ]
    },
    {
      "cell_type": "code",
      "execution_count": 12,
      "metadata": {
        "colab": {
          "base_uri": "https://localhost:8080/"
        },
        "id": "rgizc05rOiL4",
        "outputId": "cb2805db-5cf6-4ebc-9441-5a35945ea233"
      },
      "outputs": [
        {
          "output_type": "stream",
          "name": "stdout",
          "text": [
            "['I love this phone', 'I hate spaghetti', 'Everything was cold', 'Everything was hot exactly as I wanted', 'Everything was green', 'the host seated us immediately', 'they gave us free chocolate cake', 'not sure about the wilted flowers on the table', 'only works when I stand on tippy toes', 'does not work when I stand on my head']\n",
            "\n",
            "HOT OFF THE PRESS! HERE ARE SOME NEWLY MINTED, ABSOLUTELY GENUINE REVIEWS!\n",
            "\n",
            "1/1 [==============================] - 0s 107ms/step\n",
            "I love this phone\n",
            "[0.9055747]\n",
            "\n",
            "\n",
            "I hate spaghetti\n",
            "[0.12491312]\n",
            "\n",
            "\n",
            "Everything was cold\n",
            "[0.5450147]\n",
            "\n",
            "\n",
            "Everything was hot exactly as I wanted\n",
            "[0.3697208]\n",
            "\n",
            "\n",
            "Everything was green\n",
            "[0.5450147]\n",
            "\n",
            "\n",
            "the host seated us immediately\n",
            "[0.54025275]\n",
            "\n",
            "\n",
            "they gave us free chocolate cake\n",
            "[0.84946567]\n",
            "\n",
            "\n",
            "not sure about the wilted flowers on the table\n",
            "[0.06490508]\n",
            "\n",
            "\n",
            "only works when I stand on tippy toes\n",
            "[0.8544977]\n",
            "\n",
            "\n",
            "does not work when I stand on my head\n",
            "[0.03636108]\n",
            "\n",
            "\n"
          ]
        }
      ],
      "source": [
        "# Use the model to predict a review   \n",
        "fake_reviews = ['I love this phone', 'I hate spaghetti', \n",
        "                'Everything was cold',\n",
        "                'Everything was hot exactly as I wanted', \n",
        "                'Everything was green', \n",
        "                'the host seated us immediately',\n",
        "                'they gave us free chocolate cake', \n",
        "                'not sure about the wilted flowers on the table',\n",
        "                'only works when I stand on tippy toes', \n",
        "                'does not work when I stand on my head']\n",
        "\n",
        "print(fake_reviews) \n",
        "\n",
        "# Create the sequences\n",
        "padding_type='post'\n",
        "sample_sequences = tokenizer.texts_to_sequences(fake_reviews)\n",
        "fakes_padded = pad_sequences(sample_sequences, padding=padding_type, maxlen=max_length)           \n",
        "\n",
        "print('\\nHOT OFF THE PRESS! HERE ARE SOME NEWLY MINTED, ABSOLUTELY GENUINE REVIEWS!\\n')              \n",
        "\n",
        "classes = model.predict(fakes_padded)\n",
        "\n",
        "# The closer the class is to 1, the more positive the review is deemed to be\n",
        "for x in range(len(fake_reviews)):\n",
        "  print(fake_reviews[x])\n",
        "  print(classes[x])\n",
        "  print('\\n')\n"
      ]
    }
  ],
  "metadata": {
    "kernelspec": {
      "display_name": "Python 3",
      "language": "python",
      "name": "python3"
    },
    "language_info": {
      "codemirror_mode": {
        "name": "ipython",
        "version": 3
      },
      "file_extension": ".py",
      "mimetype": "text/x-python",
      "name": "python",
      "nbconvert_exporter": "python",
      "pygments_lexer": "ipython3",
      "version": "3.7.5"
    },
    "orig_nbformat": 4,
    "colab": {
      "provenance": [],
      "include_colab_link": true
    },
    "accelerator": "TPU",
    "gpuClass": "standard"
  },
  "nbformat": 4,
  "nbformat_minor": 0
}